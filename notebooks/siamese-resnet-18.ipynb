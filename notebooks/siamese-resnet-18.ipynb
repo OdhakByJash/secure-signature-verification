{
 "cells": [
  {
   "cell_type": "code",
   "execution_count": 1,
   "id": "f246fe9e",
   "metadata": {},
   "outputs": [],
   "source": [
    "import torch\n",
    "import torch.nn as nn\n",
    "import torch.nn.functional as F\n",
    "from torch.utils.data import Dataset, DataLoader\n",
    "from torchvision import models, transforms\n",
    "import pickle\n",
    "import random\n",
    "from tqdm import tqdm\n",
    "from PIL import Image\n",
    "from sklearn.metrics import accuracy_score\n",
    "import numpy as np\n",
    "import os"
   ]
  },
  {
   "cell_type": "code",
   "execution_count": 2,
   "id": "a010e5cc",
   "metadata": {},
   "outputs": [],
   "source": [
    "class SiameseSignatureDataset(Dataset):\n",
    "    def __init__(self, pairs):\n",
    "        self.pairs = pairs\n",
    "        self.transform = transforms.Compose([\n",
    "            transforms.Grayscale(num_output_channels=3),  \n",
    "            transforms.ToTensor(),                        \n",
    "        ])\n",
    "    def __len__(self):\n",
    "        return len(self.pairs)\n",
    "    def __getitem__(self, idx):\n",
    "        img1, img2, label = self.pairs[idx]\n",
    "        img1 = self.transform(img1)\n",
    "        img2 = self.transform(img2)\n",
    "        label = torch.tensor(label, dtype=torch.float32)\n",
    "        return img1, img2, label"
   ]
  },
  {
   "cell_type": "code",
   "execution_count": 3,
   "id": "331d6328",
   "metadata": {},
   "outputs": [],
   "source": [
    "class SiameseResNet(nn.Module):\n",
    "    def __init__(self):\n",
    "        super(SiameseResNet, self).__init__()\n",
    "        base_model = models.resnet18(weights=None)\n",
    "        base_model.conv1 = nn.Conv2d(3, 64, kernel_size=7, stride=2, padding=3, bias=False)\n",
    "        num_ftrs = base_model.fc.in_features\n",
    "        base_model.fc = nn.Identity()\n",
    "        self.base_model = base_model\n",
    "        self.embedding = nn.Sequential(\n",
    "            nn.Linear(num_ftrs, 256),\n",
    "            nn.ReLU(),\n",
    "            nn.Linear(256, 128)\n",
    "        )\n",
    "    def forward_once(self, x):\n",
    "        x = self.base_model(x)\n",
    "        x = self.embedding(x)\n",
    "        return x\n",
    "    def forward(self, img1, img2):\n",
    "        out1 = self.forward_once(img1)\n",
    "        out2 = self.forward_once(img2)\n",
    "        return out1, out2"
   ]
  },
  {
   "cell_type": "code",
   "execution_count": 4,
   "id": "1427673a",
   "metadata": {},
   "outputs": [],
   "source": [
    "class ContrastiveLoss(nn.Module):\n",
    "    def __init__(self, margin=1.0):\n",
    "        super(ContrastiveLoss, self).__init__()\n",
    "        self.margin = margin\n",
    "    def forward(self, out1, out2, label):\n",
    "        euclidean_distance = F.pairwise_distance(out1, out2)\n",
    "        loss = label * torch.pow(euclidean_distance, 2) + \\\n",
    "               (1 - label) * torch.pow(torch.clamp(self.margin - euclidean_distance, min=0.0), 2)\n",
    "        return torch.mean(loss)"
   ]
  },
  {
   "cell_type": "code",
   "execution_count": 5,
   "id": "20c066d6",
   "metadata": {},
   "outputs": [],
   "source": [
    "with open(\"C:/Active-Repositories/secure-signature-verification/image_pairs/positive_pairs.pkl\", \"rb\") as f1:\n",
    "    positive_pairs = pickle.load(f1)\n",
    "negative_pairs = []\n",
    "for i in range(1, 3):\n",
    "    with open(f\"C:/Active-Repositories/secure-signature-verification/image_pairs/negative_pairs_part{i}.pkl\", \"rb\") as f:\n",
    "        negative_pairs.extend(pickle.load(f))\n",
    "all_pairs = positive_pairs + negative_pairs\n",
    "random.shuffle(all_pairs)\n",
    "split = int(0.8 * len(all_pairs))\n",
    "train_pairs = all_pairs[:split]\n",
    "test_pairs = all_pairs[split:]\n",
    "train_dataset = SiameseSignatureDataset(train_pairs)\n",
    "test_dataset = SiameseSignatureDataset(test_pairs)\n",
    "train_loader = DataLoader(train_dataset, batch_size=32, shuffle=True)\n",
    "test_loader = DataLoader(test_dataset, batch_size=32, shuffle=False)"
   ]
  },
  {
   "cell_type": "code",
   "execution_count": 6,
   "id": "e4504e3c",
   "metadata": {},
   "outputs": [
    {
     "name": "stdout",
     "output_type": "stream",
     "text": [
      "36000\n",
      "38400\n"
     ]
    }
   ],
   "source": [
    "print(len(positive_pairs))\n",
    "print(len(negative_pairs))"
   ]
  },
  {
   "cell_type": "code",
   "execution_count": null,
   "id": "59bb952d",
   "metadata": {},
   "outputs": [
    {
     "name": "stderr",
     "output_type": "stream",
     "text": [
      "Epoch 1: 100%|██████████| 1860/1860 [3:00:25<00:00,  5.82s/it]  \n"
     ]
    },
    {
     "name": "stdout",
     "output_type": "stream",
     "text": [
      "Epoch [1/5], Loss: 0.0942\n"
     ]
    },
    {
     "name": "stderr",
     "output_type": "stream",
     "text": [
      "Epoch 2: 100%|██████████| 1860/1860 [2:46:11<00:00,  5.36s/it]  \n"
     ]
    },
    {
     "name": "stdout",
     "output_type": "stream",
     "text": [
      "Epoch [2/5], Loss: 0.0177\n"
     ]
    },
    {
     "name": "stderr",
     "output_type": "stream",
     "text": [
      "Epoch 3: 100%|██████████| 1860/1860 [2:40:32<00:00,  5.18s/it]  \n"
     ]
    },
    {
     "name": "stdout",
     "output_type": "stream",
     "text": [
      "Epoch [3/5], Loss: 0.0083\n"
     ]
    },
    {
     "name": "stderr",
     "output_type": "stream",
     "text": [
      "Epoch 4: 100%|██████████| 1860/1860 [2:39:40<00:00,  5.15s/it]  \n"
     ]
    },
    {
     "name": "stdout",
     "output_type": "stream",
     "text": [
      "Epoch [4/5], Loss: 0.0065\n"
     ]
    },
    {
     "name": "stderr",
     "output_type": "stream",
     "text": [
      "Epoch 5: 100%|██████████| 1860/1860 [4:15:50<00:00,  8.25s/it]     "
     ]
    },
    {
     "name": "stdout",
     "output_type": "stream",
     "text": [
      "Epoch [5/5], Loss: 0.0052\n"
     ]
    },
    {
     "name": "stderr",
     "output_type": "stream",
     "text": [
      "\n"
     ]
    }
   ],
   "source": [
    "os.makedirs(\"checkpoints\", exist_ok=True)\n",
    "device = torch.device(\"cuda\" if torch.cuda.is_available() else \"cpu\")\n",
    "model = SiameseResNet().to(device)\n",
    "criterion = ContrastiveLoss()\n",
    "optimizer = torch.optim.Adam(model.parameters(), lr=1e-3)\n",
    "epochs = 5\n",
    "for epoch in range(epochs):\n",
    "    model.train()\n",
    "    running_loss = 0.0\n",
    "    for img1, img2, label in tqdm(train_loader, desc=f\"Epoch {epoch+1}\"):\n",
    "        img1, img2, label = img1.to(device), img2.to(device), label.to(device)\n",
    "        out1, out2 = model(img1, img2)\n",
    "        loss = criterion(out1, out2, label)\n",
    "        optimizer.zero_grad()\n",
    "        loss.backward()\n",
    "        optimizer.step()\n",
    "        running_loss += loss.item()\n",
    "    avg_loss = running_loss / len(train_loader)\n",
    "    print(f\"Epoch [{epoch+1}/{epochs}], Loss: {avg_loss:.4f}\")\n",
    "    checkpoint_path = f\"checkpoints/siamese_epoch_{epoch+1}.pth\"\n",
    "    torch.save(model.state_dict(), checkpoint_path)\n"
   ]
  },
  {
   "cell_type": "code",
   "execution_count": 8,
   "id": "8fd867f4",
   "metadata": {},
   "outputs": [],
   "source": [
    "torch.save(model.state_dict(), \"siamese_resnet_18.pth\")"
   ]
  },
  {
   "cell_type": "code",
   "execution_count": 9,
   "id": "48b6a0aa",
   "metadata": {},
   "outputs": [
    {
     "name": "stdout",
     "output_type": "stream",
     "text": [
      "Best validation threshold: 0.4275 with accuracy: 100.00%\n"
     ]
    }
   ],
   "source": [
    "val_split = int(0.9 * len(train_pairs))\n",
    "val_pairs = train_pairs[val_split:]\n",
    "train_pairs = train_pairs[:val_split]\n",
    "val_dataset = SiameseSignatureDataset(val_pairs)\n",
    "val_loader = DataLoader(val_dataset, batch_size=32, shuffle=False)\n",
    "all_distances = []\n",
    "all_labels = []\n",
    "with torch.no_grad():\n",
    "    for img1, img2, labels in val_loader:\n",
    "        img1, img2, labels = img1.to(device), img2.to(device), labels.to(device)\n",
    "        out1, out2 = model(img1, img2)\n",
    "        distances = F.pairwise_distance(out1, out2)\n",
    "        all_distances.extend(distances.cpu().numpy())\n",
    "        all_labels.extend(labels.cpu().numpy())\n",
    "thresholds = np.linspace(0, max(all_distances), 200)\n",
    "best_acc = 0\n",
    "best_threshold = 0\n",
    "for t in thresholds:\n",
    "    preds = (np.array(all_distances) < t).astype(float)\n",
    "    acc = accuracy_score(all_labels, preds)\n",
    "    if acc > best_acc:\n",
    "        best_acc = acc\n",
    "        best_threshold = t\n",
    "print(f\"Best validation threshold: {best_threshold:.4f} with accuracy: {best_acc:.2%}\")"
   ]
  }
 ],
 "metadata": {
  "kernelspec": {
   "display_name": "venv (3.13.5)",
   "language": "python",
   "name": "python3"
  },
  "language_info": {
   "codemirror_mode": {
    "name": "ipython",
    "version": 3
   },
   "file_extension": ".py",
   "mimetype": "text/x-python",
   "name": "python",
   "nbconvert_exporter": "python",
   "pygments_lexer": "ipython3",
   "version": "3.13.6"
  }
 },
 "nbformat": 4,
 "nbformat_minor": 5
}
