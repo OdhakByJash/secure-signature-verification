{
 "cells": [
  {
   "cell_type": "markdown",
   "id": "6edc3a9f",
   "metadata": {},
   "source": [
    "# Imports"
   ]
  },
  {
   "cell_type": "code",
   "execution_count": 2,
   "id": "4a7855f2",
   "metadata": {},
   "outputs": [],
   "source": [
    "from PIL import Image"
   ]
  },
  {
   "cell_type": "markdown",
   "id": "135a908c",
   "metadata": {},
   "source": [
    "# Image Processing For CEDAR Dataset (Grayscale,Resize)"
   ]
  },
  {
   "cell_type": "code",
   "execution_count": 3,
   "id": "f10e72af",
   "metadata": {},
   "outputs": [],
   "source": [
    "size = (256,256)\n",
    "for i in range(1,56):\n",
    "    folder_path = f'C:/Active-Repositories/secure-signature-verification/organized_data/CEDAR/person_{i}'\n",
    "    for j in range(1,25):\n",
    "        file_original_path = f'{folder_path}/original/{i}_{j}.png'\n",
    "        file_forged_path = f'{folder_path}/forged/{i}_{j}.png'\n",
    "        og_img1 = Image.open(file_forged_path)\n",
    "        og_img2 = Image.open(file_original_path)\n",
    "        img1 = og_img1.resize(size)\n",
    "        img2 = og_img2.resize(size)\n",
    "        gray_img1 = img1.convert('L')\n",
    "        gray_img2 = img2.convert('L')\n",
    "        gray_img1.save(file_forged_path)\n",
    "        gray_img2.save(file_original_path)\n"
   ]
  },
  {
   "cell_type": "markdown",
   "id": "62e52ee7",
   "metadata": {},
   "source": [
    "# Image Processing For GPDS TEST Dataset (Grayscale,Resize)"
   ]
  },
  {
   "cell_type": "code",
   "execution_count": 5,
   "id": "8547dd83",
   "metadata": {},
   "outputs": [],
   "source": [
    "size = (256,256)\n",
    "for i in range(1,151):\n",
    "    folder_path = f'C:/Active-Repositories/secure-signature-verification/organized_data/GPDS/test/{i}'\n",
    "    for j in range(17,31):\n",
    "        file_forged_path = f'{folder_path}/forge/{i}-{j}.jpg'\n",
    "        og_img1 = Image.open(file_forged_path)\n",
    "        img1 = og_img1.resize(size)\n",
    "        gray_img1 = img1.convert('L')\n",
    "        gray_img1.save(file_forged_path)\n",
    "        if j in range(17,25):\n",
    "            file_original_path = f'{folder_path}/genuine/{i}-{j}.jpg'\n",
    "            og_img2 = Image.open(file_original_path)\n",
    "            img2 = og_img2.resize(size)\n",
    "            gray_img2 = img2.convert('L')\n",
    "            gray_img2.save(file_original_path)"
   ]
  },
  {
   "cell_type": "markdown",
   "id": "02453ed9",
   "metadata": {},
   "source": [
    "# Image Processing For GPDS TRAIN Dataset (Grayscale,Resize)"
   ]
  },
  {
   "cell_type": "code",
   "execution_count": 3,
   "id": "10c29eb3",
   "metadata": {},
   "outputs": [],
   "source": [
    "size = (256,256)\n",
    "for i in range(1,151):\n",
    "    folder_path = f'C:/Active-Repositories/secure-signature-verification/organized_data/GPDS/train/{i}'\n",
    "    for j in range(1,17):\n",
    "        file_forged_path = f'{folder_path}/forge/{i}-{j}.jpg'\n",
    "        og_img1 = Image.open(file_forged_path)\n",
    "        img1 = og_img1.resize(size)\n",
    "        gray_img1 = img1.convert('L')\n",
    "        gray_img1.save(file_forged_path)\n",
    "        file_original_path = f'{folder_path}/genuine/{i}-{j}.jpg'\n",
    "        og_img2 = Image.open(file_original_path)\n",
    "        img2 = og_img2.resize(size)\n",
    "        gray_img2 = img2.convert('L')\n",
    "        gray_img2.save(file_original_path)"
   ]
  }
 ],
 "metadata": {
  "kernelspec": {
   "display_name": "venv (3.13.5)",
   "language": "python",
   "name": "python3"
  },
  "language_info": {
   "codemirror_mode": {
    "name": "ipython",
    "version": 3
   },
   "file_extension": ".py",
   "mimetype": "text/x-python",
   "name": "python",
   "nbconvert_exporter": "python",
   "pygments_lexer": "ipython3",
   "version": "3.13.5"
  }
 },
 "nbformat": 4,
 "nbformat_minor": 5
}
