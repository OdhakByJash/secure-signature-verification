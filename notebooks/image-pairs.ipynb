{
 "cells": [
  {
   "cell_type": "markdown",
   "id": "62d7b90c",
   "metadata": {},
   "source": [
    "# Signature Verification Using Siamese Network"
   ]
  },
  {
   "cell_type": "markdown",
   "id": "7b15b16e",
   "metadata": {},
   "source": [
    "# Imports"
   ]
  },
  {
   "cell_type": "code",
   "execution_count": 1,
   "id": "ac80cc89",
   "metadata": {},
   "outputs": [],
   "source": [
    "from PIL import Image\n",
    "import numpy as np\n",
    "import pickle"
   ]
  },
  {
   "cell_type": "markdown",
   "id": "3965d432",
   "metadata": {},
   "source": [
    "# Creating Pairs For Siamese Network"
   ]
  },
  {
   "cell_type": "code",
   "execution_count": 2,
   "id": "d3c0ae3a",
   "metadata": {},
   "outputs": [],
   "source": [
    "folder_directory = \"C:/Active-Repositories/secure-signature-verification/organized_data/GPDS/train\"\n",
    "positive_pairs = list()\n",
    "negative_pairs = list()\n",
    "for i in range(1,151):\n",
    "    positive_directory = f'{folder_directory}/{i}/genuine'\n",
    "    negative_directory = f'{folder_directory}/{i}/forge'\n",
    "    for j in range(1,17):\n",
    "        pos_img_0 = Image.open(f'{positive_directory}/{i}-{j}.jpg')\n",
    "        pos_img_0_arr = np.array(pos_img_0)/255.0\n",
    "        neg_img_0 = Image.open(f'{negative_directory}/{i}-{j}.jpg')\n",
    "        neg_img_0_arr = np.array(neg_img_0)/255.0\n",
    "        negative_pairs.append((pos_img_0,neg_img_0,0))\n",
    "        for k in range(1,17):\n",
    "            if j<k:\n",
    "                pos_img_1 = Image.open(f'{positive_directory}/{i}-{k}.jpg')\n",
    "                pos_img_1_arr = np.array(pos_img_1)/255.0\n",
    "                neg_img_1 = Image.open(f'{negative_directory}/{i}-{k}.jpg')\n",
    "                neg_img_1_arr = np.array(neg_img_1)/255.0\n",
    "                positive_pairs.append((pos_img_0,pos_img_1,1))\n",
    "                positive_pairs.append((pos_img_1,pos_img_0,1))\n",
    "                negative_pairs.append((pos_img_0,neg_img_1,0))\n",
    "                negative_pairs.append((pos_img_1,neg_img_1,0))"
   ]
  },
  {
   "cell_type": "markdown",
   "id": "731608bf",
   "metadata": {},
   "source": [
    "# Verifying Pair List Size"
   ]
  },
  {
   "cell_type": "code",
   "execution_count": 3,
   "id": "311f4176",
   "metadata": {},
   "outputs": [
    {
     "name": "stdout",
     "output_type": "stream",
     "text": [
      "36000\n",
      "38400\n"
     ]
    }
   ],
   "source": [
    "print(len(positive_pairs))\n",
    "print(len(negative_pairs))"
   ]
  },
  {
   "cell_type": "markdown",
   "id": "fd215a92",
   "metadata": {},
   "source": [
    "# Storing In Pickle Files For Easy Acess"
   ]
  },
  {
   "cell_type": "code",
   "execution_count": 4,
   "id": "4b676a5e",
   "metadata": {},
   "outputs": [],
   "source": [
    "with open(\"positive_pairs.pkl\", 'wb') as f:\n",
    "    pickle.dump(positive_pairs, f)\n",
    "def save_in_two_parts(obj, base_filename):\n",
    "    mid = len(obj) // 2\n",
    "    parts = [obj[:mid], obj[mid:]]\n",
    "    for i, part in enumerate(parts, start=1):\n",
    "        filename = f\"{base_filename}_part{i}.pkl\"\n",
    "        with open(filename, 'wb') as f:\n",
    "            pickle.dump(part, f)\n",
    "save_in_two_parts(negative_pairs, \"negative_pairs\")"
   ]
  }
 ],
 "metadata": {
  "kernelspec": {
   "display_name": "venv (3.13.5)",
   "language": "python",
   "name": "python3"
  },
  "language_info": {
   "codemirror_mode": {
    "name": "ipython",
    "version": 3
   },
   "file_extension": ".py",
   "mimetype": "text/x-python",
   "name": "python",
   "nbconvert_exporter": "python",
   "pygments_lexer": "ipython3",
   "version": "3.13.5"
  }
 },
 "nbformat": 4,
 "nbformat_minor": 5
}
