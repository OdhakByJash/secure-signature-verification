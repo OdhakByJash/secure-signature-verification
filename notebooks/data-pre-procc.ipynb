{
 "cells": [
  {
   "cell_type": "markdown",
   "id": "3c59ffff",
   "metadata": {},
   "source": [
    "# Imports"
   ]
  },
  {
   "cell_type": "code",
   "execution_count": 2,
   "id": "53e59aad",
   "metadata": {},
   "outputs": [],
   "source": [
    "import os\n",
    "import shutil"
   ]
  },
  {
   "cell_type": "markdown",
   "id": "b06b6488",
   "metadata": {},
   "source": [
    "# Phase-1: Data Collection And Organization: CEDAR Database"
   ]
  },
  {
   "cell_type": "code",
   "execution_count": null,
   "id": "dc18ff07",
   "metadata": {},
   "outputs": [],
   "source": [
    "# CEDAR ORIGINAL IMAGES RENAMING FOR EASE OF ORGANIZATION\n",
    "folder_path = \"C:/Active-Repositories/secure-signature-verification/data/cedar/full_org\"\n",
    "for person in range(1,56):\n",
    "    for instance in range(1,25):\n",
    "            os.rename(f'{folder_path}/original_{person}_{instance}.png',\n",
    "                      f'{folder_path}/{person}_{instance}.png')"
   ]
  },
  {
   "cell_type": "code",
   "execution_count": null,
   "id": "489d3200",
   "metadata": {},
   "outputs": [],
   "source": [
    "# CEDAR FORGED IMAGES RENAMING FOR EASE OF ORGANIZATION\n",
    "folder_path = \"C:/Active-Repositories/secure-signature-verification/data/cedar/full_forg\"\n",
    "for person in range(1,56):\n",
    "    for instance in range(1,25):\n",
    "            os.rename(f'{folder_path}/forgeries_{person}_{instance}.png',\n",
    "                      f'{folder_path}/{person}_{instance}.png')"
   ]
  },
  {
   "cell_type": "code",
   "execution_count": null,
   "id": "5e55e33d",
   "metadata": {},
   "outputs": [],
   "source": [
    "# CREATING PERSON WISE FOLDERS WITH FORGED AND ORIGINAL SUB-FOLDERS\n",
    "folder_path_org = \"C:/Active-Repositories/secure-signature-verification/organized_data\"\n",
    "for person in range(1,56):\n",
    "    os.mkdir(f'{folder_path_org}/person_{person}')\n",
    "    os.mkdir(f'{folder_path_org}/person_{person}/original')\n",
    "    os.mkdir(f'{folder_path_org}/person_{person}/forged')"
   ]
  },
  {
   "cell_type": "code",
   "execution_count": 6,
   "id": "8a1a283c",
   "metadata": {},
   "outputs": [],
   "source": [
    "# MOVING RELEVANT DATA TO RELEVANT ORGANIZED FOLDERS\n",
    "original_folder_path = \"C:/Active-Repositories/secure-signature-verification/data/cedar/full_org\"\n",
    "forged_folder_path = \"C:/Active-Repositories/secure-signature-verification/data/cedar/full_forg\"\n",
    "organized_folder_path = \"C:/Active-Repositories/secure-signature-verification/organized_data\"\n",
    "for person in range(1,56):\n",
    "    for instance in range(1,25):\n",
    "        shutil.move(f'{original_folder_path}/{person}_{instance}.png',\n",
    "                    f'{organized_folder_path}/person_{person}/original')\n",
    "        shutil.move(f'{forged_folder_path}/{person}_{instance}.png',\n",
    "                    f'{organized_folder_path}/person_{person}/forged')"
   ]
  },
  {
   "cell_type": "markdown",
   "id": "7c77192a",
   "metadata": {},
   "source": [
    "# Phase-1: Data Collection And Organization: GPDS Dataset"
   ]
  },
  {
   "cell_type": "code",
   "execution_count": 8,
   "id": "b41b47d9",
   "metadata": {},
   "outputs": [],
   "source": [
    "# GPDS GENUINE IMAGE RENAMING FOR EASY ORGANIZATION\n",
    "genuine_folder_path = \"C:/Active-Repositories/secure-signature-verification/data/gpds/train/genuine\"\n",
    "for person in range(1,151):\n",
    "    if person in range(1,10):\n",
    "        num = f'00{person}'\n",
    "    elif person in range(10,100):\n",
    "        num = f'0{person}'\n",
    "    else:\n",
    "        num = person\n",
    "    for instance in range(1,17):\n",
    "        if instance in range(1,10):\n",
    "            num_ = f'0{instance}'\n",
    "        else:\n",
    "            num_ = instance\n",
    "        os.rename(f'{genuine_folder_path}/c-{num}-{num_} (Copy).jpg',\n",
    "                  f'{genuine_folder_path}/{person}-{instance}.jpg')"
   ]
  },
  {
   "cell_type": "code",
   "execution_count": 9,
   "id": "c82f26c1",
   "metadata": {},
   "outputs": [],
   "source": [
    "# GPDS FORGED IMAGE RENAMING FOR EASY ORGANIZATION\n",
    "genuine_folder_path = \"C:/Active-Repositories/secure-signature-verification/data/gpds/train/forge\"\n",
    "for person in range(1,151):\n",
    "    if person in range(1,10):\n",
    "        num = f'00{person}'\n",
    "    elif person in range(10,100):\n",
    "        num = f'0{person}'\n",
    "    else:\n",
    "        num = person\n",
    "    for instance in range(1,17):\n",
    "        if instance in range(1,10):\n",
    "            num_ = f'0{instance}'\n",
    "        else:\n",
    "            num_ = instance\n",
    "        os.rename(f'{genuine_folder_path}/cf-{num}-{num_} (Copy).jpg',\n",
    "                  f'{genuine_folder_path}/{person}-{instance}.jpg')"
   ]
  },
  {
   "cell_type": "code",
   "execution_count": 2,
   "id": "e5c1bc58",
   "metadata": {},
   "outputs": [],
   "source": [
    "# CREATING RELEVANT FOLDERS IN ORGANIZED DATA DIRECTORY\n",
    "parent_folder_path = \"C:/Active-Repositories/secure-signature-verification/organized_data/GPDS/train\"\n",
    "for person in range(1,151):\n",
    "    os.mkdir(f'{parent_folder_path}/{person}')\n",
    "    os.mkdir(f'{parent_folder_path}/{person}/forge')\n",
    "    os.mkdir(f'{parent_folder_path}/{person}/genuine')"
   ]
  },
  {
   "cell_type": "code",
   "execution_count": 6,
   "id": "7f906c82",
   "metadata": {},
   "outputs": [],
   "source": [
    "# ORGANIZING TRAINING DATA INTO ORGANIZED DATA DIRECTORY\n",
    "forge_folder_path = \"C:/Active-Repositories/secure-signature-verification/data/gpds/train/forge\"\n",
    "genuine_folder_path = \"C:/Active-Repositories/secure-signature-verification/data/gpds/train/genuine\"\n",
    "organize_folder_path = \"C:/Active-Repositories/secure-signature-verification/organized_data/GPDS/train\"\n",
    "for person in range(1,151):\n",
    "    for instance in range(1,17):\n",
    "        shutil.move(\n",
    "            f'{forge_folder_path}/{person}-{instance}.jpg',\n",
    "            f'{organize_folder_path}/{person}/forge'\n",
    "        )\n",
    "        shutil.move(\n",
    "            f'{genuine_folder_path}/{person}-{instance}.jpg',\n",
    "            f'{organize_folder_path}/{person}/genuine'\n",
    "        )"
   ]
  },
  {
   "cell_type": "code",
   "execution_count": 5,
   "id": "8641d7d5",
   "metadata": {},
   "outputs": [],
   "source": [
    "# REFACTORING GPDS TEST DATA\n",
    "test_folder_path = \"C:/Active-Repositories/secure-signature-verification/organized_data/GPDS/test\"\n",
    "for person in range(1,151):\n",
    "    if person in range(1,10):\n",
    "        num = f'00{person}'\n",
    "    elif person in range(10,100):\n",
    "        num = f'0{person}'\n",
    "    else:\n",
    "        num = person\n",
    "    cd_path_forge = f'{test_folder_path}/{person}/forge'\n",
    "    cd_path_genuine = f'{test_folder_path}/{person}/genuine'\n",
    "    for instance in range(17,31):\n",
    "        forged_file_path = f'{cd_path_forge}/cf-{num}-{instance} (COPY).jpg'\n",
    "        if instance<=24:\n",
    "            genuine_file_path = f'{cd_path_genuine}/c-{num}-{instance} (COPY).jpg'\n",
    "        os.rename(forged_file_path,\n",
    "                  f'{cd_path_forge}/{person}-{instance}')\n",
    "        if instance<=24:\n",
    "            os.rename(genuine_file_path,\n",
    "                    f'{cd_path_genuine}/{person}-{instance}')\n"
   ]
  },
  {
   "cell_type": "code",
   "execution_count": 3,
   "id": "fbedad8f",
   "metadata": {},
   "outputs": [],
   "source": [
    "# REFACTORING GPDS TEST DATA\n",
    "test_folder_path = \"C:/Active-Repositories/secure-signature-verification/organized_data/GPDS/test\"\n",
    "for person in range(1,151):\n",
    "    if person in range(1,10):\n",
    "        num = f'00{person}'\n",
    "    elif person in range(10,100):\n",
    "        num = f'0{person}'\n",
    "    else:\n",
    "        num = person\n",
    "    cd_path_forge = f'{test_folder_path}/{person}/forge'\n",
    "    cd_path_genuine = f'{test_folder_path}/{person}/genuine'\n",
    "    for instance in range(17,31):\n",
    "        forged_file_path = f'{cd_path_forge}/cf-{num}-{instance} (COPY).jpg'\n",
    "        if instance<=24:\n",
    "            genuine_file_path = f'{cd_path_genuine}/c-{num}-{instance} (COPY).jpg'\n",
    "        os.rename(f'{cd_path_forge}/{person}-{instance}',\n",
    "                  f'{cd_path_forge}/{person}-{instance}.jpg')\n",
    "        if instance<=24:\n",
    "            os.rename(f'{cd_path_genuine}/{person}-{instance}',\n",
    "                    f'{cd_path_genuine}/{person}-{instance}.jpg')"
   ]
  }
 ],
 "metadata": {
  "kernelspec": {
   "display_name": "venv (3.13.5)",
   "language": "python",
   "name": "python3"
  },
  "language_info": {
   "codemirror_mode": {
    "name": "ipython",
    "version": 3
   },
   "file_extension": ".py",
   "mimetype": "text/x-python",
   "name": "python",
   "nbconvert_exporter": "python",
   "pygments_lexer": "ipython3",
   "version": "3.13.5"
  }
 },
 "nbformat": 4,
 "nbformat_minor": 5
}
